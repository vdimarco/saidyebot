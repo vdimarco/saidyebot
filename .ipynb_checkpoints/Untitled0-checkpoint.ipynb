{
 "metadata": {
  "name": "",
  "signature": "sha256:d53ec38a85c67a6455403ec7bc51899365a9e66f5ad9b6c8e7e9daf7199f0c26"
 },
 "nbformat": 3,
 "nbformat_minor": 0,
 "worksheets": []
}